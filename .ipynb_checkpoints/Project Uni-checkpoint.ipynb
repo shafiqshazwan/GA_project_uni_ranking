{
 "cells": [
  {
   "cell_type": "code",
   "execution_count": 1,
   "id": "4006442e",
   "metadata": {},
   "outputs": [],
   "source": [
    "import pandas as pd\n",
    "import numpy as np\n",
    "import matplotlib.pyplot as plt\n",
    "%matplotlib inline"
   ]
  },
  {
   "cell_type": "code",
   "execution_count": 2,
   "id": "55bcf5fc",
   "metadata": {},
   "outputs": [],
   "source": [
    "uni = pd.read_csv('cwurData.csv')"
   ]
  },
  {
   "cell_type": "code",
   "execution_count": 3,
   "id": "cb84b189",
   "metadata": {},
   "outputs": [
    {
     "data": {
      "text/html": [
       "<div>\n",
       "<style scoped>\n",
       "    .dataframe tbody tr th:only-of-type {\n",
       "        vertical-align: middle;\n",
       "    }\n",
       "\n",
       "    .dataframe tbody tr th {\n",
       "        vertical-align: top;\n",
       "    }\n",
       "\n",
       "    .dataframe thead th {\n",
       "        text-align: right;\n",
       "    }\n",
       "</style>\n",
       "<table border=\"1\" class=\"dataframe\">\n",
       "  <thead>\n",
       "    <tr style=\"text-align: right;\">\n",
       "      <th></th>\n",
       "      <th>world_rank</th>\n",
       "      <th>institution</th>\n",
       "      <th>country</th>\n",
       "      <th>national_rank</th>\n",
       "      <th>quality_of_education</th>\n",
       "      <th>alumni_employment</th>\n",
       "      <th>quality_of_faculty</th>\n",
       "      <th>publications</th>\n",
       "      <th>influence</th>\n",
       "      <th>citations</th>\n",
       "      <th>broad_impact</th>\n",
       "      <th>patents</th>\n",
       "      <th>score</th>\n",
       "      <th>year</th>\n",
       "    </tr>\n",
       "  </thead>\n",
       "  <tbody>\n",
       "    <tr>\n",
       "      <th>0</th>\n",
       "      <td>1</td>\n",
       "      <td>Harvard University</td>\n",
       "      <td>USA</td>\n",
       "      <td>1</td>\n",
       "      <td>7</td>\n",
       "      <td>9</td>\n",
       "      <td>1</td>\n",
       "      <td>1</td>\n",
       "      <td>1</td>\n",
       "      <td>1</td>\n",
       "      <td>NaN</td>\n",
       "      <td>5</td>\n",
       "      <td>100.00</td>\n",
       "      <td>2012</td>\n",
       "    </tr>\n",
       "    <tr>\n",
       "      <th>1</th>\n",
       "      <td>2</td>\n",
       "      <td>Massachusetts Institute of Technology</td>\n",
       "      <td>USA</td>\n",
       "      <td>2</td>\n",
       "      <td>9</td>\n",
       "      <td>17</td>\n",
       "      <td>3</td>\n",
       "      <td>12</td>\n",
       "      <td>4</td>\n",
       "      <td>4</td>\n",
       "      <td>NaN</td>\n",
       "      <td>1</td>\n",
       "      <td>91.67</td>\n",
       "      <td>2012</td>\n",
       "    </tr>\n",
       "    <tr>\n",
       "      <th>2</th>\n",
       "      <td>3</td>\n",
       "      <td>Stanford University</td>\n",
       "      <td>USA</td>\n",
       "      <td>3</td>\n",
       "      <td>17</td>\n",
       "      <td>11</td>\n",
       "      <td>5</td>\n",
       "      <td>4</td>\n",
       "      <td>2</td>\n",
       "      <td>2</td>\n",
       "      <td>NaN</td>\n",
       "      <td>15</td>\n",
       "      <td>89.50</td>\n",
       "      <td>2012</td>\n",
       "    </tr>\n",
       "    <tr>\n",
       "      <th>3</th>\n",
       "      <td>4</td>\n",
       "      <td>University of Cambridge</td>\n",
       "      <td>United Kingdom</td>\n",
       "      <td>1</td>\n",
       "      <td>10</td>\n",
       "      <td>24</td>\n",
       "      <td>4</td>\n",
       "      <td>16</td>\n",
       "      <td>16</td>\n",
       "      <td>11</td>\n",
       "      <td>NaN</td>\n",
       "      <td>50</td>\n",
       "      <td>86.17</td>\n",
       "      <td>2012</td>\n",
       "    </tr>\n",
       "    <tr>\n",
       "      <th>4</th>\n",
       "      <td>5</td>\n",
       "      <td>California Institute of Technology</td>\n",
       "      <td>USA</td>\n",
       "      <td>4</td>\n",
       "      <td>2</td>\n",
       "      <td>29</td>\n",
       "      <td>7</td>\n",
       "      <td>37</td>\n",
       "      <td>22</td>\n",
       "      <td>22</td>\n",
       "      <td>NaN</td>\n",
       "      <td>18</td>\n",
       "      <td>85.21</td>\n",
       "      <td>2012</td>\n",
       "    </tr>\n",
       "  </tbody>\n",
       "</table>\n",
       "</div>"
      ],
      "text/plain": [
       "   world_rank                            institution         country  \\\n",
       "0           1                     Harvard University             USA   \n",
       "1           2  Massachusetts Institute of Technology             USA   \n",
       "2           3                    Stanford University             USA   \n",
       "3           4                University of Cambridge  United Kingdom   \n",
       "4           5     California Institute of Technology             USA   \n",
       "\n",
       "   national_rank  quality_of_education  alumni_employment  quality_of_faculty  \\\n",
       "0              1                     7                  9                   1   \n",
       "1              2                     9                 17                   3   \n",
       "2              3                    17                 11                   5   \n",
       "3              1                    10                 24                   4   \n",
       "4              4                     2                 29                   7   \n",
       "\n",
       "   publications  influence  citations  broad_impact  patents   score  year  \n",
       "0             1          1          1           NaN        5  100.00  2012  \n",
       "1            12          4          4           NaN        1   91.67  2012  \n",
       "2             4          2          2           NaN       15   89.50  2012  \n",
       "3            16         16         11           NaN       50   86.17  2012  \n",
       "4            37         22         22           NaN       18   85.21  2012  "
      ]
     },
     "execution_count": 3,
     "metadata": {},
     "output_type": "execute_result"
    }
   ],
   "source": [
    "uni.head()"
   ]
  },
  {
   "cell_type": "code",
   "execution_count": 4,
   "id": "aedd2938",
   "metadata": {},
   "outputs": [
    {
     "data": {
      "text/plain": [
       "(2200, 14)"
      ]
     },
     "execution_count": 4,
     "metadata": {},
     "output_type": "execute_result"
    }
   ],
   "source": [
    "uni.shape"
   ]
  },
  {
   "cell_type": "code",
   "execution_count": 5,
   "id": "9e165b86",
   "metadata": {},
   "outputs": [
    {
     "data": {
      "text/plain": [
       "<bound method DataFrame.info of       world_rank                            institution         country  \\\n",
       "0              1                     Harvard University             USA   \n",
       "1              2  Massachusetts Institute of Technology             USA   \n",
       "2              3                    Stanford University             USA   \n",
       "3              4                University of Cambridge  United Kingdom   \n",
       "4              5     California Institute of Technology             USA   \n",
       "...          ...                                    ...             ...   \n",
       "2195         996              University of the Algarve        Portugal   \n",
       "2196         997                  Alexandria University           Egypt   \n",
       "2197         998            Federal University of Ceará          Brazil   \n",
       "2198         999                 University of A Coruña           Spain   \n",
       "2199        1000        China Pharmaceutical University           China   \n",
       "\n",
       "      national_rank  quality_of_education  alumni_employment  \\\n",
       "0                 1                     7                  9   \n",
       "1                 2                     9                 17   \n",
       "2                 3                    17                 11   \n",
       "3                 1                    10                 24   \n",
       "4                 4                     2                 29   \n",
       "...             ...                   ...                ...   \n",
       "2195              7                   367                567   \n",
       "2196              4                   236                566   \n",
       "2197             18                   367                549   \n",
       "2198             40                   367                567   \n",
       "2199             83                   367                567   \n",
       "\n",
       "      quality_of_faculty  publications  influence  citations  broad_impact  \\\n",
       "0                      1             1          1          1           NaN   \n",
       "1                      3            12          4          4           NaN   \n",
       "2                      5             4          2          2           NaN   \n",
       "3                      4            16         16         11           NaN   \n",
       "4                      7            37         22         22           NaN   \n",
       "...                  ...           ...        ...        ...           ...   \n",
       "2195                 218           926        845        812         969.0   \n",
       "2196                 218           997        908        645         981.0   \n",
       "2197                 218           830        823        812         975.0   \n",
       "2198                 218           886        974        812         975.0   \n",
       "2199                 218           861        991        812         981.0   \n",
       "\n",
       "      patents   score  year  \n",
       "0           5  100.00  2012  \n",
       "1           1   91.67  2012  \n",
       "2          15   89.50  2012  \n",
       "3          50   86.17  2012  \n",
       "4          18   85.21  2012  \n",
       "...       ...     ...   ...  \n",
       "2195      816   44.03  2015  \n",
       "2196      871   44.03  2015  \n",
       "2197      824   44.03  2015  \n",
       "2198      651   44.02  2015  \n",
       "2199      547   44.02  2015  \n",
       "\n",
       "[2200 rows x 14 columns]>"
      ]
     },
     "execution_count": 5,
     "metadata": {},
     "output_type": "execute_result"
    }
   ],
   "source": [
    "uni.info"
   ]
  },
  {
   "cell_type": "markdown",
   "id": "85964ff9",
   "metadata": {},
   "source": [
    "Number of Data Based on the Year Released\n",
    "\n",
    "Graph of Number of Data Against Year Released"
   ]
  },
  {
   "cell_type": "code",
   "execution_count": 8,
   "id": "679a2d20",
   "metadata": {},
   "outputs": [
    {
     "data": {
      "text/plain": [
       "2012     100\n",
       "2013     100\n",
       "2014    1000\n",
       "2015    1000\n",
       "Name: year, dtype: int64"
      ]
     },
     "execution_count": 8,
     "metadata": {},
     "output_type": "execute_result"
    }
   ],
   "source": [
    "uni['year'].value_counts().sort_index().head()"
   ]
  },
  {
   "cell_type": "code",
   "execution_count": 9,
   "id": "86ce8197",
   "metadata": {},
   "outputs": [
    {
     "data": {
      "image/png": "[encoded data removed]",
      "text/plain": [
       "<Figure size 432x288 with 1 Axes>"
      ]
     },
     "metadata": {
      "needs_background": "light"
     },
     "output_type": "display_data"
    }
   ],
   "source": [
    "uni['year'].value_counts().sort_index().plot();"
   ]
  },
  {
   "cell_type": "code",
   "execution_count": 14,
   "id": "1c0baf6e",
   "metadata": {},
   "outputs": [
    {
     "data": {
      "text/html": [
       "<div>\n",
       "<style scoped>\n",
       "    .dataframe tbody tr th:only-of-type {\n",
       "        vertical-align: middle;\n",
       "    }\n",
       "\n",
       "    .dataframe tbody tr th {\n",
       "        vertical-align: top;\n",
       "    }\n",
       "\n",
       "    .dataframe thead th {\n",
       "        text-align: right;\n",
       "    }\n",
       "</style>\n",
       "<table border=\"1\" class=\"dataframe\">\n",
       "  <thead>\n",
       "    <tr style=\"text-align: right;\">\n",
       "      <th></th>\n",
       "      <th>country</th>\n",
       "      <th>national_rank</th>\n",
       "    </tr>\n",
       "  </thead>\n",
       "  <tbody>\n",
       "    <tr>\n",
       "      <th>0</th>\n",
       "      <td>USA</td>\n",
       "      <td>1</td>\n",
       "    </tr>\n",
       "    <tr>\n",
       "      <th>1</th>\n",
       "      <td>USA</td>\n",
       "      <td>2</td>\n",
       "    </tr>\n",
       "    <tr>\n",
       "      <th>2</th>\n",
       "      <td>USA</td>\n",
       "      <td>3</td>\n",
       "    </tr>\n",
       "    <tr>\n",
       "      <th>3</th>\n",
       "      <td>United Kingdom</td>\n",
       "      <td>1</td>\n",
       "    </tr>\n",
       "    <tr>\n",
       "      <th>4</th>\n",
       "      <td>USA</td>\n",
       "      <td>4</td>\n",
       "    </tr>\n",
       "  </tbody>\n",
       "</table>\n",
       "</div>"
      ],
      "text/plain": [
       "          country  national_rank\n",
       "0             USA              1\n",
       "1             USA              2\n",
       "2             USA              3\n",
       "3  United Kingdom              1\n",
       "4             USA              4"
      ]
     },
     "execution_count": 14,
     "metadata": {},
     "output_type": "execute_result"
    }
   ],
   "source": [
    "uni[['country','national_rank']].head(5)"
   ]
  },
  {
   "cell_type": "code",
   "execution_count": null,
   "id": "f05783f0",
   "metadata": {},
   "outputs": [],
   "source": []
  }
 ],
 "metadata": {
  "kernelspec": {
   "display_name": "Python 3",
   "language": "python",
   "name": "python3"
  },
  "language_info": {
   "codemirror_mode": {
    "name": "ipython",
    "version": 3
   },
   "file_extension": ".py",
   "mimetype": "text/x-python",
   "name": "python",
   "nbconvert_exporter": "python",
   "pygments_lexer": "ipython3",
   "version": "3.8.8"
  }
 },
 "nbformat": 4,
 "nbformat_minor": 5
}
